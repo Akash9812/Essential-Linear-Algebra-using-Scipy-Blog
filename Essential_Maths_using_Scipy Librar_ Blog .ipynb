{
 "cells": [
  {
   "cell_type": "markdown",
   "metadata": {},
   "source": [
    "# Description of Scipy"
   ]
  },
  {
   "cell_type": "markdown",
   "metadata": {},
   "source": [
    "* SciPy is an open-source Python library\n",
    "* Enables us to manipulate and visualise data using a variety of high-level commands\n",
    "  Mathematics, scientific computing, engineering, and technical computing.\n",
    "* SciPy is designed to work with NumPy arrays. \n",
    "* It includes many user-friendly and efficient numerical routines, such as numerical     integration and optimization routines. "
   ]
  },
  {
   "cell_type": "markdown",
   "metadata": {},
   "source": [
    "### Why Scipy\n",
    " * SciPy has a number of sub-packages that help with the most common problems in Scientific Computation. \n",
    " * It's easy to use and understand, and it has a fast computational power.\n",
    " * It can operate on an array of NumPy library."
   ]
  },
  {
   "cell_type": "markdown",
   "metadata": {},
   "source": [
    "# Linear Algebra with SciPy"
   ]
  },
  {
   "cell_type": "markdown",
   "metadata": {},
   "source": [
    "## Installation "
   ]
  },
  {
   "cell_type": "markdown",
   "metadata": {},
   "source": [
    "#### pip install scipy \n",
    "#### &\n",
    "#### conda install -c anaconda scipy   #for anaconda"
   ]
  },
  {
   "cell_type": "markdown",
   "metadata": {},
   "source": [
    "## Scipy has Special Function Package\n",
    "* scipy.special package contains numerous functions of mathematical physics.\n",
    "* SciPy special function includes Cubic Root, Exponential, Log sum Exponential, Lambert, Permutation and Combinations, Gamma, Bessel, hypergeometric, Kelvin, beta, parabolic cylinder, Relative Error Exponential, etc."
   ]
  },
  {
   "cell_type": "markdown",
   "metadata": {},
   "source": [
    "# Permutation \n",
    "A permutation is a mathematical approach used to calculate the number of possible arrangements in a set when the order of the arrangements is important"
   ]
  },
  {
   "cell_type": "markdown",
   "metadata": {},
   "source": [
    "## Application of Permutation \n",
    "* Arranging people\n",
    "* Arranging digits \n",
    "* Arranging numbers\n",
    "* Arranging alphabets,letters \n",
    "* Arranging colours"
   ]
  },
  {
   "cell_type": "code",
   "execution_count": 6,
   "metadata": {},
   "outputs": [
    {
     "name": "stdout",
     "output_type": "stream",
     "text": [
      "12\n"
     ]
    }
   ],
   "source": [
    "# We see one example of Permutation\n",
    "from scipy.special import perm\n",
    "per = perm(4, 2,  True)   # exact = False we get values in float\n",
    "print(per)"
   ]
  },
  {
   "cell_type": "markdown",
   "metadata": {},
   "source": [
    "# Combination\n",
    "A combination is a mathematical technique that determines the number of possible arrangements in a collection of items where the order of the selection does not matter"
   ]
  },
  {
   "cell_type": "markdown",
   "metadata": {},
   "source": [
    "## Application of Combination\n",
    "- Selection of menu \n",
    "* Selection of food \n",
    "* Selection of clothes \n",
    "* Selection of subjects "
   ]
  },
  {
   "cell_type": "code",
   "execution_count": 7,
   "metadata": {},
   "outputs": [
    {
     "name": "stdout",
     "output_type": "stream",
     "text": [
      "10.0\n"
     ]
    }
   ],
   "source": [
    "from scipy.special import comb\n",
    "per = comb(5, 2, exact = False)   \n",
    "print(per)"
   ]
  },
  {
   "cell_type": "markdown",
   "metadata": {},
   "source": [
    "# Linear Equation\n",
    "### Linear Equation 3x + 2y + 0z = 2, x - y + 0z = 4, 0x + 5y + z = -1"
   ]
  },
  {
   "cell_type": "markdown",
   "metadata": {},
   "source": [
    "### Real Life Applications of Linear Equations\n",
    "* Expressing the word problem as a mathematical statement (algebraic expression).\n",
    "* These linear equations can then be solved using various problem solving methods to determine the value of the unknown variables."
   ]
  },
  {
   "cell_type": "code",
   "execution_count": 8,
   "metadata": {},
   "outputs": [
    {
     "name": "stdout",
     "output_type": "stream",
     "text": [
      "[ 2. -2.  9.]\n"
     ]
    }
   ],
   "source": [
    "#importing the scipy and numpy packages\n",
    "from scipy import linalg\n",
    "import numpy as np\n",
    "\n",
    "#Declaring the numpy arrays\n",
    "a = np.array([[3, 2, 0], [1, -1, 0], [0, 5, 1]])\n",
    "b = np.array([2, 4, -1])\n",
    "\n",
    "#Passing the values to the solve function\n",
    "x = linalg.solve(a, b)\n",
    "\n",
    "#printing the result array\n",
    "print(x)"
   ]
  },
  {
   "cell_type": "markdown",
   "metadata": {},
   "source": [
    "### Finding Determinant \n"
   ]
  },
  {
   "cell_type": "code",
   "execution_count": 9,
   "metadata": {},
   "outputs": [
    {
     "data": {
      "text/plain": [
       "20.0"
      ]
     },
     "execution_count": 9,
     "metadata": {},
     "output_type": "execute_result"
    }
   ],
   "source": [
    "from scipy import linalg\n",
    "import numpy as np\n",
    "two_d_array = np.array([ [4,4], [1,6] ])  #define square matrix\n",
    "linalg.det( two_d_array )   #pass values to det() function"
   ]
  },
  {
   "cell_type": "markdown",
   "metadata": {},
   "source": [
    "### Inverse Matrix \n",
    "#### Syntax – scipy.linalg.inv()\n",
    " Inverse Matrix of Scipy calculates the inverse of any square matrix."
   ]
  },
  {
   "cell_type": "code",
   "execution_count": 10,
   "metadata": {},
   "outputs": [
    {
     "data": {
      "text/plain": [
       "array([[ 0.3 , -0.2 ],\n",
       "       [-0.05,  0.2 ]])"
      ]
     },
     "execution_count": 10,
     "metadata": {},
     "output_type": "execute_result"
    }
   ],
   "source": [
    "from scipy import linalg\n",
    "import numpy as np\n",
    "# define square matrix\n",
    "two_d_array = np.array([ [4,4], [1,6] ])\n",
    "two_d_array\n",
    "#pass value to function inv()\n",
    "linalg.inv( two_d_array )"
   ]
  },
  {
   "cell_type": "markdown",
   "metadata": {},
   "source": [
    "## Integration"
   ]
  },
  {
   "cell_type": "markdown",
   "metadata": {},
   "source": [
    "'''The general form of quad is scipy.integrate.quad(f, a, b), Where ‘f’ is the name of the function to be integrated. \n",
    "Whereas, ‘a’ and ‘b’ are the lower and upper limits, respectively.'''"
   ]
  },
  {
   "cell_type": "markdown",
   "metadata": {},
   "source": [
    "### Real Life Applications of Integration\n",
    "* Predict the position of planets\n",
    "* To calculate the Centre of Mass, \n",
    "* Centre of Gravity and Mass Moment of Inertia of a sports utility vehicle."
   ]
  },
  {
   "cell_type": "code",
   "execution_count": 11,
   "metadata": {},
   "outputs": [
    {
     "name": "stdout",
     "output_type": "stream",
     "text": [
      "(0.7468241328124271, 8.291413475940725e-15)\n"
     ]
    }
   ],
   "source": [
    "import scipy.integrate\n",
    "from numpy import exp\n",
    "f= lambda x:exp(-x**2)\n",
    "i = scipy.integrate.quad(f, 0, 1)\n",
    "print(i)"
   ]
  },
  {
   "cell_type": "markdown",
   "metadata": {},
   "source": [
    "## Derivative"
   ]
  },
  {
   "cell_type": "markdown",
   "metadata": {},
   "source": [
    "### Why we use derivatives\n",
    "* They are used to locate the maxima and minima of functions and indicate slope \n",
    "* This is beneficial in terms of optimization"
   ]
  },
  {
   "cell_type": "markdown",
   "metadata": {},
   "source": [
    "### Application of Derivatives in Real Life\n",
    "* To calculate the profit and loss in business using graphs.\n",
    "* To determine the speed or distance covered such as miles per hour, kilometre per hour etc.\n",
    "* Derivatives are used to derive many equations in Physics.\n",
    "* To check the temperature variation.\n",
    "* In the study of Seismology like to find the range of magnitudes of the earthquake."
   ]
  },
  {
   "cell_type": "code",
   "execution_count": 12,
   "metadata": {},
   "outputs": [
    {
     "data": {
      "text/plain": [
       "4.999999999921734"
      ]
     },
     "execution_count": 12,
     "metadata": {},
     "output_type": "execute_result"
    }
   ],
   "source": [
    "from scipy.misc import derivative\n",
    "def f(x):\n",
    "    return x**3 + x**2\n",
    "derivative(f, 1.0, dx=1e-6)"
   ]
  },
  {
   "cell_type": "markdown",
   "metadata": {},
   "source": [
    "## Eigenvalues and Eigenvector\n",
    "#### syntax – scipy.linalg.eig()\n",
    "* eigenvalue states that how much variance there is in the data in that direction, i.e how spread out the data is on the line\n",
    " "
   ]
  },
  {
   "cell_type": "markdown",
   "metadata": {},
   "source": [
    "### Some uses of Eigenvalues and Eigenvectors\n",
    "* Using singular value decomposition for image compression\n",
    "* Deriving Special Relativity is more natural in the language of linear algebra\n",
    "* Spectral Clustering\n",
    "* Dimensionality Reduction/PCA"
   ]
  },
  {
   "cell_type": "code",
   "execution_count": 13,
   "metadata": {},
   "outputs": [
    {
     "name": "stdout",
     "output_type": "stream",
     "text": [
      "Eigenvalues: [ 8.+0.j -2.+0.j]\n",
      "Eigenvector: [[ 0.70710678 -0.5547002 ]\n",
      " [ 0.70710678  0.83205029]]\n"
     ]
    }
   ],
   "source": [
    "# Now lets we find the Eigenvalue of (X) and correspond eigenvector of a two-dimensional square matrix.\n",
    "from scipy import linalg\n",
    "import numpy as np\n",
    "\n",
    "#define two dimensional array\n",
    "arr = np.array([[4,4],[6,2]])\n",
    "\n",
    "#pass value into function\n",
    "eg_val, eg_vect = linalg.eig(arr)\n",
    "\n",
    "#get eigenvalues\n",
    "print('Eigenvalues:',eg_val)\n",
    "\n",
    "#get eigenvectors\n",
    "print('Eigenvector:',eg_vect)"
   ]
  },
  {
   "cell_type": "markdown",
   "metadata": {},
   "source": [
    "# Sparse Matrix\n",
    "### What is the use of sparse matrix\n",
    "* Storage: There are less number of non-zero elements than zeros, less memory may be needed to store them.\n",
    "* Computing time: Computing time can be saved by logically designing a data structure that traverses (Zig-zag path) only non-zero elements."
   ]
  },
  {
   "cell_type": "code",
   "execution_count": 14,
   "metadata": {
    "scrolled": false
   },
   "outputs": [
    {
     "data": {
      "text/plain": [
       "array([-2.17152358e+03, -1.96589955e+02,  1.90915675e-01,  1.26046481e+00,\n",
       "        1.25297933e+02,  1.17977628e+00,  4.02911549e-01,  1.01961985e+01,\n",
       "        7.33678432e-01,  6.46314352e-01])"
      ]
     },
     "execution_count": 14,
     "metadata": {},
     "output_type": "execute_result"
    }
   ],
   "source": [
    "# import necessary modules \n",
    "from scipy import sparse \n",
    "from scipy.sparse import linalg \n",
    "# Row-based linked list sparse matrix \n",
    "A = sparse.lil_matrix((1000, 1000)) \n",
    "A[0,:100] = np.random.rand(100) \n",
    "A[1,100:200] = A[0,:100] \n",
    "A.setdiag(np.random.rand(1000)) \n",
    "#print(A) \n",
    "\n",
    "# Convert this matrix to Compressed Sparse Row format. \n",
    "A.tocsr()    #Return a copy of this matrix in Compressed Sparse Row format Duplicate entries will be summed together.\n",
    "  \n",
    "A = A.tocsr() \n",
    "b = np.random.rand(1000) \n",
    "c = linalg.spsolve(A, b) \n",
    "# it will print ans array of 1000 size \n",
    "c[0:10] # there are 1000 values but we will print only few of them"
   ]
  },
  {
   "cell_type": "code",
   "execution_count": null,
   "metadata": {},
   "outputs": [],
   "source": []
  },
  {
   "cell_type": "code",
   "execution_count": null,
   "metadata": {},
   "outputs": [],
   "source": []
  }
 ],
 "metadata": {
  "kernelspec": {
   "display_name": "Python 3",
   "language": "python",
   "name": "python3"
  },
  "language_info": {
   "codemirror_mode": {
    "name": "ipython",
    "version": 3
   },
   "file_extension": ".py",
   "mimetype": "text/x-python",
   "name": "python",
   "nbconvert_exporter": "python",
   "pygments_lexer": "ipython3",
   "version": "3.8.8"
  }
 },
 "nbformat": 4,
 "nbformat_minor": 4
}
